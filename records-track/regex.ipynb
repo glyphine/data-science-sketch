{
 "cells": [
  {
   "cell_type": "code",
   "execution_count": 4,
   "id": "99217a58-c4a9-413e-a929-fb5bb2405945",
   "metadata": {},
   "outputs": [],
   "source": [
    "import re"
   ]
  },
  {
   "cell_type": "code",
   "execution_count": 7,
   "id": "f55720a5-a9f7-40f7-97d2-9f4df4ea051f",
   "metadata": {},
   "outputs": [
    {
     "name": "stdout",
     "output_type": "stream",
     "text": [
      "Wonderful\n"
     ]
    }
   ],
   "source": [
    "text = \"This is a good day\"\n",
    "\n",
    "if re.search (\"good\", text): \n",
    "    print(\"Wonderful\")\n",
    "else:\n",
    "    print(\"Cry about it\") "
   ]
  },
  {
   "cell_type": "code",
   "execution_count": 9,
   "id": "b8a8fa07-39bb-460b-9f27-4a4d200776bb",
   "metadata": {},
   "outputs": [
    {
     "data": {
      "text/plain": [
       "[' The ', ' works diligently. The ', ' gets good food. Our ', ' is succesful.']"
      ]
     },
     "execution_count": 9,
     "metadata": {},
     "output_type": "execute_result"
    }
   ],
   "source": [
    "#In addition to checking for the conditionals, we can segment a string.\n",
    "#The work that regex does here is called tokenizing,\n",
    "#where the string is separated into substrings based on patterns.\n",
    "\n",
    "# The findall() and split() functions will parse the string for us and return chunks. Eg. below\n",
    "text = \" The duck works diligently. The duck gets good food. Our duck is succesful.\" \n",
    "\n",
    "re.split(\"duck\", text)"
   ]
  },
  {
   "cell_type": "code",
   "execution_count": 10,
   "id": "ef5deb12-6bce-4872-9890-2fd19dbc0cd4",
   "metadata": {},
   "outputs": [
    {
     "data": {
      "text/plain": [
       "['duck', 'duck', 'duck']"
      ]
     },
     "execution_count": 10,
     "metadata": {},
     "output_type": "execute_result"
    }
   ],
   "source": [
    "re.findall(\"duck\", text) "
   ]
  },
  {
   "cell_type": "code",
   "execution_count": 11,
   "id": "5591075b-1fa9-43b4-a3a8-e18f91bdbd6d",
   "metadata": {},
   "outputs": [],
   "source": [
    "# .search() looks for some pattern and returns a boolean. \n",
    "# .split() will use a pattern for creating a list of substrings\n",
    "# .findall() look for a pattern and pull out all the occurences"
   ]
  },
  {
   "cell_type": "code",
   "execution_count": 18,
   "id": "e8c03dda-7650-4ecc-8637-a392ff2b0ba9",
   "metadata": {},
   "outputs": [],
   "source": [
    "#  the regext specification standard defines a markup language to describe patterns in text. \n",
    "# ANchors specify the start and/or the end of the string that you are trying to match. \n",
    "# Caret character ^ means start and the dollar sign character $ means end. \n",
    "\n",
    "#Sample\n",
    "text =  \" The duck works diligently. The duck gets good food. Our duck is succesful.\" \n",
    "re.search(\"^duck\", text) "
   ]
  },
  {
   "cell_type": "code",
   "execution_count": 19,
   "id": "c0f50e6b-947c-46c2-89b0-4f7deabe4fe3",
   "metadata": {},
   "outputs": [],
   "source": [
    "# re.search() actually returned a new object, called re.Match object\n"
   ]
  },
  {
   "cell_type": "markdown",
   "id": "76ae40e8-3427-425b-80fb-302c87d592da",
   "metadata": {},
   "source": [
    "## Pattern and Character CLasses"
   ]
  },
  {
   "cell_type": "code",
   "execution_count": 84,
   "id": "b0ed4221-71e1-43cd-88f2-f9ce1113a81b",
   "metadata": {},
   "outputs": [
    {
     "data": {
      "text/plain": [
       "['B', 'B', 'B', 'B', 'B']"
      ]
     },
     "execution_count": 84,
     "metadata": {},
     "output_type": "execute_result"
    }
   ],
   "source": [
    "# sample\n",
    "\n",
    "grades= \"BCAAABACAABCBCAAB\"\n",
    "\n",
    "re.findall(\"B\", grades) "
   ]
  },
  {
   "cell_type": "code",
   "execution_count": 85,
   "id": "33cda361-f6c3-4c2b-b919-0bc25e1d4781",
   "metadata": {},
   "outputs": [
    {
     "data": {
      "text/plain": [
       "['B', 'A', 'A', 'A', 'B', 'A', 'A', 'A', 'B', 'B', 'A', 'A', 'B']"
      ]
     },
     "execution_count": 85,
     "metadata": {},
     "output_type": "execute_result"
    }
   ],
   "source": [
    "re.findall(\"[AB]\", grades) \n",
    "\n",
    "# \"AB\" can be read so we put characters A and B in square brackets"
   ]
  },
  {
   "cell_type": "code",
   "execution_count": 86,
   "id": "3c286278-fcb4-49ec-a47f-0d7f5c38fe21",
   "metadata": {},
   "outputs": [
    {
     "data": {
      "text/plain": [
       "['AB', 'AC', 'AB', 'AB']"
      ]
     },
     "execution_count": 86,
     "metadata": {},
     "output_type": "execute_result"
    }
   ],
   "source": [
    "# Set operators. range of charaters, which are ordered alphanumerically. \n",
    "# basically its like an OR conditioning function\n",
    "re.findall(\"[A][B-C]\", grades) "
   ]
  },
  {
   "cell_type": "code",
   "execution_count": 87,
   "id": "fd3a7281-9065-4a68-905d-16b5435a47ef",
   "metadata": {},
   "outputs": [
    {
     "data": {
      "text/plain": [
       "['AB', 'AC', 'AB', 'AB']"
      ]
     },
     "execution_count": 87,
     "metadata": {},
     "output_type": "execute_result"
    }
   ],
   "source": [
    "#but like its also possible you can write like this pattern using a pipe operator (OR) \n",
    "\n",
    "re.findall(\"AB|AC\", grades)"
   ]
  },
  {
   "cell_type": "code",
   "execution_count": 88,
   "id": "aae75fbe-34b5-430e-9c7f-430488432821",
   "metadata": {},
   "outputs": [
    {
     "data": {
      "text/plain": [
       "['B', 'C', 'B', 'C', 'B', 'C', 'B', 'C', 'B']"
      ]
     },
     "execution_count": 88,
     "metadata": {},
     "output_type": "execute_result"
    }
   ],
   "source": [
    "# we can also like exclude a specific token\n",
    "re.findall(\"[^A]\", grades) "
   ]
  },
  {
   "cell_type": "code",
   "execution_count": 89,
   "id": "08ecdb39-36fd-4e17-831b-f8dd8df82575",
   "metadata": {},
   "outputs": [
    {
     "data": {
      "text/plain": [
       "['B']"
      ]
     },
     "execution_count": 89,
     "metadata": {},
     "output_type": "execute_result"
    }
   ],
   "source": [
    "#regex says that we want to match any value at the beginning of the string which is not an A. \n",
    "#note only at the beginning\n",
    "re.findall(\"^[^A]\", grades) "
   ]
  },
  {
   "cell_type": "markdown",
   "id": "fbcfca3c-157e-4994-b42b-708d945869d0",
   "metadata": {},
   "source": [
    "## Quantifiers"
   ]
  },
  {
   "cell_type": "code",
   "execution_count": 90,
   "id": "a7050871-2e23-4a13-bb79-f24379996db4",
   "metadata": {},
   "outputs": [
    {
     "data": {
      "text/plain": [
       "['AAA', 'AA', 'AA']"
      ]
     },
     "execution_count": 90,
     "metadata": {},
     "output_type": "execute_result"
    }
   ],
   "source": [
    "# Quantifiers are the number of time you want a pattern to be matched in order to match. \n",
    "# The most basic quantifier is expressed as e{m,n}, \n",
    "# where e is the expression or character matching, m - minimum, n - maximum number it was match\n",
    "\n",
    "re.findall(\"A{2,10}\", grades)\n"
   ]
  },
  {
   "cell_type": "code",
   "execution_count": 91,
   "id": "59f09f38-100f-43f5-abb2-2d779c450aec",
   "metadata": {},
   "outputs": [
    {
     "data": {
      "text/plain": [
       "['AA', 'AA', 'AA']"
      ]
     },
     "execution_count": 91,
     "metadata": {},
     "output_type": "execute_result"
    }
   ],
   "source": [
    "re.findall(\"A{1,1}A{1,1}\", grades)"
   ]
  },
  {
   "cell_type": "code",
   "execution_count": 94,
   "id": "599ca690-332f-4fac-a57f-3569575d23db",
   "metadata": {},
   "outputs": [
    {
     "data": {
      "text/plain": [
       "[]"
      ]
     },
     "execution_count": 94,
     "metadata": {},
     "output_type": "execute_result"
    }
   ],
   "source": [
    "re.findall(\"A{2, 2}\", grades)"
   ]
  },
  {
   "cell_type": "code",
   "execution_count": 95,
   "id": "5fae9f82-71bf-451c-8b5e-617721abb796",
   "metadata": {},
   "outputs": [
    {
     "data": {
      "text/plain": [
       "['AA', 'AA', 'AA']"
      ]
     },
     "execution_count": 95,
     "metadata": {},
     "output_type": "execute_result"
    }
   ],
   "source": [
    "re.findall(\"AA\", grades)"
   ]
  },
  {
   "cell_type": "code",
   "execution_count": 96,
   "id": "4c69bcb5-6e10-424b-bdc1-61b756796bd4",
   "metadata": {},
   "outputs": [
    {
     "data": {
      "text/plain": [
       "['AA', 'AA', 'AA']"
      ]
     },
     "execution_count": 96,
     "metadata": {},
     "output_type": "execute_result"
    }
   ],
   "source": [
    "re.findall(\"A{2}\", grades)"
   ]
  },
  {
   "cell_type": "code",
   "execution_count": 97,
   "id": "8d3ad571-0a7f-46db-97e1-341e8d54f571",
   "metadata": {},
   "outputs": [
    {
     "data": {
      "text/plain": [
       "['AABC']"
      ]
     },
     "execution_count": 97,
     "metadata": {},
     "output_type": "execute_result"
    }
   ],
   "source": [
    "re.findall(\"A{1,10}B{1,10}C{1,10}\", grades)"
   ]
  },
  {
   "cell_type": "code",
   "execution_count": 139,
   "id": "160db73f-932d-4537-b152-403aef49ec27",
   "metadata": {},
   "outputs": [],
   "source": [
    "wikidata = \"Some sample text that includes an [edit] tag for testing purposes.\""
   ]
  },
  {
   "cell_type": "code",
   "execution_count": 140,
   "id": "a73856be-6565-402f-b3d5-0748030340dc",
   "metadata": {},
   "outputs": [
    {
     "name": "stdout",
     "output_type": "stream",
     "text": [
      "[]\n"
     ]
    }
   ],
   "source": [
    "matches = re.findall(r\"[a-zA-Z]{1,100}\\[edit\\]\", wikidata)\n",
    "print(matches)"
   ]
  },
  {
   "cell_type": "code",
   "execution_count": 146,
   "id": "b7d173c4-b349-43ce-a8da-ce1abff3e8d4",
   "metadata": {},
   "outputs": [
    {
     "name": "stderr",
     "output_type": "stream",
     "text": [
      "<>:2: SyntaxWarning: invalid escape sequence '\\w'\n",
      "<>:2: SyntaxWarning: invalid escape sequence '\\w'\n",
      "C:\\Users\\gwynn\\AppData\\Local\\Temp\\ipykernel_11912\\2037148329.py:2: SyntaxWarning: invalid escape sequence '\\w'\n",
      "  re.findall(\"[\\w] {1,100}\\[edit\\]\", wikidata)\n"
     ]
    },
    {
     "data": {
      "text/plain": [
       "['n [edit]']"
      ]
     },
     "execution_count": 146,
     "metadata": {},
     "output_type": "execute_result"
    }
   ],
   "source": [
    "#btw \\w is a metacharater, and indicates a special pattern of any letter or digit.\n",
    "re.findall(\"[\\w] {1,100}\\[edit\\]\", wikidata) "
   ]
  },
  {
   "cell_type": "code",
   "execution_count": 147,
   "id": "1ecfb1ab-1a34-427a-9e08-6be6438ce666",
   "metadata": {},
   "outputs": [
    {
     "name": "stderr",
     "output_type": "stream",
     "text": [
      "<>:1: SyntaxWarning: invalid escape sequence '\\w'\n",
      "<>:1: SyntaxWarning: invalid escape sequence '\\w'\n",
      "C:\\Users\\gwynn\\AppData\\Local\\Temp\\ipykernel_11912\\1901493847.py:1: SyntaxWarning: invalid escape sequence '\\w'\n",
      "  re.findall(\"[\\w]*\\[edit\\]\",wikidata)\n"
     ]
    },
    {
     "data": {
      "text/plain": [
       "['[edit]']"
      ]
     },
     "execution_count": 147,
     "metadata": {},
     "output_type": "execute_result"
    }
   ],
   "source": [
    "re.findall(\"[\\w]*\\[edit\\]\",wikidata)"
   ]
  },
  {
   "cell_type": "code",
   "execution_count": null,
   "id": "5a85d940-49b2-49c2-85c7-908762d5fd5f",
   "metadata": {},
   "outputs": [],
   "source": [
    "re.findall(\"[\\w ]*\\[edit\\]\",wikidata)"
   ]
  },
  {
   "cell_type": "code",
   "execution_count": 151,
   "id": "06f6d0fc-213b-4707-a54f-f91a8bed91da",
   "metadata": {},
   "outputs": [
    {
     "name": "stdout",
     "output_type": "stream",
     "text": [
      "Some sample text that includes an \n"
     ]
    },
    {
     "name": "stderr",
     "output_type": "stream",
     "text": [
      "<>:2: SyntaxWarning: invalid escape sequence '\\w'\n",
      "<>:3: SyntaxWarning: invalid escape sequence '\\['\n",
      "<>:2: SyntaxWarning: invalid escape sequence '\\w'\n",
      "<>:3: SyntaxWarning: invalid escape sequence '\\['\n",
      "C:\\Users\\gwynn\\AppData\\Local\\Temp\\ipykernel_11912\\902091034.py:2: SyntaxWarning: invalid escape sequence '\\w'\n",
      "  for title in re.findall(\"[\\w ]*\\[edit\\]\",wikidata):\n",
      "C:\\Users\\gwynn\\AppData\\Local\\Temp\\ipykernel_11912\\902091034.py:3: SyntaxWarning: invalid escape sequence '\\['\n",
      "  print(re.split(\"[\\[]\", title)[0])\n"
     ]
    }
   ],
   "source": [
    "# The code finds all sequences of word characters and spaces followed by [edit] in the string, splits each match at the [, and prints the part before [edit].\n",
    "for title in re.findall(\"[\\w ]*\\[edit\\]\",wikidata): \n",
    "    print(re.split(\"[\\[]\", title)[0]) "
   ]
  },
  {
   "cell_type": "markdown",
   "id": "69e7e7a9-8ae9-423b-96f7-96abf328a113",
   "metadata": {},
   "source": [
    "## Groups "
   ]
  },
  {
   "cell_type": "code",
   "execution_count": 161,
   "id": "191c3363-cdbc-4a3e-b17c-b7e9f2a89388",
   "metadata": {},
   "outputs": [],
   "source": [
    "#you can also match different patterns, called groups. to group patterns together you can use parentheses"
   ]
  },
  {
   "cell_type": "code",
   "execution_count": 162,
   "id": "adf77742-813b-41ee-b9e6-120f611caa25",
   "metadata": {},
   "outputs": [
    {
     "name": "stderr",
     "output_type": "stream",
     "text": [
      "<>:1: SyntaxWarning: invalid escape sequence '\\w'\n",
      "<>:1: SyntaxWarning: invalid escape sequence '\\w'\n",
      "C:\\Users\\gwynn\\AppData\\Local\\Temp\\ipykernel_11912\\1567128077.py:1: SyntaxWarning: invalid escape sequence '\\w'\n",
      "  re.findall(\"([\\w ]*\\[edit\\])\",wikidata)\n"
     ]
    },
    {
     "data": {
      "text/plain": [
       "['Some sample text that includes an [edit]']"
      ]
     },
     "execution_count": 162,
     "metadata": {},
     "output_type": "execute_result"
    }
   ],
   "source": [
    "re.findall(\"([\\w ]*\\[edit\\])\",wikidata)"
   ]
  },
  {
   "cell_type": "code",
   "execution_count": 163,
   "id": "51e77070-78cb-42f2-a4c0-8e52aef5f79b",
   "metadata": {},
   "outputs": [
    {
     "name": "stdout",
     "output_type": "stream",
     "text": [
      "('Some sample text that includes an [edit]',)\n"
     ]
    },
    {
     "name": "stderr",
     "output_type": "stream",
     "text": [
      "<>:1: SyntaxWarning: invalid escape sequence '\\w'\n",
      "<>:1: SyntaxWarning: invalid escape sequence '\\w'\n",
      "C:\\Users\\gwynn\\AppData\\Local\\Temp\\ipykernel_11912\\3546249797.py:1: SyntaxWarning: invalid escape sequence '\\w'\n",
      "  for item in re.finditer(\"([\\w ]*\\[edit\\])\",wikidata):\n"
     ]
    }
   ],
   "source": [
    "for item in re.finditer(\"([\\w ]*\\[edit\\])\",wikidata):\n",
    "    print(item.groups()) \n"
   ]
  },
  {
   "cell_type": "code",
   "execution_count": 164,
   "id": "bbe3f5e7-af07-4bff-9e26-a0de6f5da10d",
   "metadata": {},
   "outputs": [
    {
     "name": "stdout",
     "output_type": "stream",
     "text": [
      "Some sample text that includes an [edit]\n"
     ]
    },
    {
     "name": "stderr",
     "output_type": "stream",
     "text": [
      "<>:1: SyntaxWarning: invalid escape sequence '\\w'\n",
      "<>:1: SyntaxWarning: invalid escape sequence '\\w'\n",
      "C:\\Users\\gwynn\\AppData\\Local\\Temp\\ipykernel_11912\\1549431708.py:1: SyntaxWarning: invalid escape sequence '\\w'\n",
      "  for item in re.finditer(\"([\\w ]*\\[edit\\])\",wikidata):\n"
     ]
    }
   ],
   "source": [
    "for item in re.finditer(\"([\\w ]*\\[edit\\])\",wikidata):\n",
    "    print(item.group(1)) "
   ]
  },
  {
   "cell_type": "code",
   "execution_count": 168,
   "id": "4a9971d5-b0b1-4964-a164-e7aee86c94b2",
   "metadata": {},
   "outputs": [
    {
     "name": "stdout",
     "output_type": "stream",
     "text": [
      "Some sample text that includes an \n"
     ]
    },
    {
     "name": "stderr",
     "output_type": "stream",
     "text": [
      "<>:4: SyntaxWarning: invalid escape sequence '\\w'\n",
      "<>:4: SyntaxWarning: invalid escape sequence '\\w'\n",
      "C:\\Users\\gwynn\\AppData\\Local\\Temp\\ipykernel_11912\\614551971.py:4: SyntaxWarning: invalid escape sequence '\\w'\n",
      "  for item in re.finditer(\"(?P<title>[\\w ]*)(?P<edit_link>\\[edit\\])\", wikidata):\n"
     ]
    }
   ],
   "source": [
    "#giving a name of the group is (?P<name>), parethesis starts the group\n",
    "# ?P indicates that this is an extension to basic regexes, and <name> is the dictionary key we want to weapped in <>\n",
    "\n",
    "for item in re.finditer(\"(?P<title>[\\w ]*)(?P<edit_link>\\[edit\\])\", wikidata): \n",
    "    print(item.groupdict()['title'])"
   ]
  },
  {
   "cell_type": "code",
   "execution_count": 169,
   "id": "df0144c7-611a-4928-9ab1-039c23d0cba2",
   "metadata": {},
   "outputs": [
    {
     "name": "stdout",
     "output_type": "stream",
     "text": [
      "{'title': 'Some sample text that includes an ', 'edit_link': '[edit]'}\n"
     ]
    }
   ],
   "source": [
    "print(item.groupdict())"
   ]
  },
  {
   "cell_type": "markdown",
   "id": "29194752-5552-4087-9118-53385e19a1b0",
   "metadata": {},
   "source": [
    "## Look-ahead and Look-behind"
   ]
  },
  {
   "cell_type": "code",
   "execution_count": 173,
   "id": "b031bc1f-d32e-4d9e-adde-55d013030885",
   "metadata": {},
   "outputs": [
    {
     "name": "stdout",
     "output_type": "stream",
     "text": [
      "<re.Match object; span=(0, 34), match='Some sample text that includes an '>\n"
     ]
    },
    {
     "name": "stderr",
     "output_type": "stream",
     "text": [
      "<>:2: SyntaxWarning: invalid escape sequence '\\w'\n",
      "<>:2: SyntaxWarning: invalid escape sequence '\\w'\n",
      "C:\\Users\\gwynn\\AppData\\Local\\Temp\\ipykernel_11912\\2714021756.py:2: SyntaxWarning: invalid escape sequence '\\w'\n",
      "  for item in re.finditer(\"(?P<title>[\\w ]+)(?=\\[edit\\])\", wikidata):\n"
     ]
    }
   ],
   "source": [
    "# the look-ahead assertion (?=\\[edit\\]) is used to ensure that only the text immediately preceding [edit] is matched and captured by the named group title, without including [edit] itself in the match.\n",
    "for item in re.finditer(\"(?P<title>[\\w ]+)(?=\\[edit\\])\", wikidata):\n",
    "    print(item) "
   ]
  }
 ],
 "metadata": {
  "kernelspec": {
   "display_name": "Python 3 (ipykernel)",
   "language": "python",
   "name": "python3"
  },
  "language_info": {
   "codemirror_mode": {
    "name": "ipython",
    "version": 3
   },
   "file_extension": ".py",
   "mimetype": "text/x-python",
   "name": "python",
   "nbconvert_exporter": "python",
   "pygments_lexer": "ipython3",
   "version": "3.12.2"
  }
 },
 "nbformat": 4,
 "nbformat_minor": 5
}
