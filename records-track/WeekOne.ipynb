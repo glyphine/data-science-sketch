{
 "cells": [
  {
   "cell_type": "markdown",
   "id": "ee596898-96c6-4f58-82ec-264d6cf4a72d",
   "metadata": {},
   "source": [
    "# Week 1\n",
    "__Jupyter Notebook System__"
   ]
  },
  {
   "cell_type": "code",
   "execution_count": 1,
   "id": "54063638-2bae-4de7-890a-3b9c4e661673",
   "metadata": {},
   "outputs": [
    {
     "name": "stdout",
     "output_type": "stream",
     "text": [
      "5\n"
     ]
    }
   ],
   "source": [
    "x= 5 \n",
    "print(x) "
   ]
  },
  {
   "cell_type": "code",
   "execution_count": null,
   "id": "2bcb7271-9f56-448f-bee0-bdcca3952b3a",
   "metadata": {},
   "outputs": [],
   "source": [
    "print(x+1) "
   ]
  },
  {
   "cell_type": "markdown",
   "id": "8f2f2b73-a9bc-4821-91a9-d2da0654a4e9",
   "metadata": {},
   "source": [
    "# The Python Programmming Language: Functions"
   ]
  },
  {
   "cell_type": "code",
   "execution_count": 3,
   "id": "e94ce5bd-8b94-44ea-9262-3450b691ed96",
   "metadata": {},
   "outputs": [
    {
     "data": {
      "text/plain": [
       "3"
      ]
     },
     "execution_count": 3,
     "metadata": {},
     "output_type": "execute_result"
    }
   ],
   "source": [
    "x= 1\n",
    "y=2 \n",
    "x+y"
   ]
  },
  {
   "cell_type": "code",
   "execution_count": 4,
   "id": "f166f3aa-3e27-46d4-9285-3e511b584008",
   "metadata": {},
   "outputs": [
    {
     "data": {
      "text/plain": [
       "1"
      ]
     },
     "execution_count": 4,
     "metadata": {},
     "output_type": "execute_result"
    }
   ],
   "source": [
    "x"
   ]
  },
  {
   "cell_type": "code",
   "execution_count": 6,
   "id": "56f2a08e-cdf1-4a5c-9731-44457b8309d5",
   "metadata": {},
   "outputs": [
    {
     "data": {
      "text/plain": [
       "3"
      ]
     },
     "execution_count": 6,
     "metadata": {},
     "output_type": "execute_result"
    }
   ],
   "source": [
    "def add_numbers(x, y):\n",
    "    return x+ y \n",
    "\n",
    "add_numbers(1, 2) \n"
   ]
  },
  {
   "cell_type": "code",
   "execution_count": 8,
   "id": "e2412079-48b7-496a-af6a-fa4638fb191a",
   "metadata": {},
   "outputs": [
    {
     "name": "stdout",
     "output_type": "stream",
     "text": [
      "3\n",
      "6\n"
     ]
    }
   ],
   "source": [
    "def add_numbers(x, y, z=None):\n",
    "    if ( z==None):\n",
    "        return x+ y \n",
    "    else: \n",
    "        return x+ y+ z \n",
    "print(add_numbers(1, 2)) \n",
    "print(add_numbers(1, 2,3))"
   ]
  },
  {
   "cell_type": "code",
   "execution_count": 12,
   "id": "1ad57ba9-c574-4306-b5a8-f827be0951e4",
   "metadata": {},
   "outputs": [
    {
     "name": "stdout",
     "output_type": "stream",
     "text": [
      "Flag is true!\n",
      "3\n"
     ]
    }
   ],
   "source": [
    "def add_numbers(x, y,z=None, flag= False):\n",
    "    if(flag):\n",
    "        print('Flag is true!') \n",
    "    if (z==None): \n",
    "        return x+y \n",
    "    else: \n",
    "        return x+y+z\n",
    "print(add_numbers(1,2, flag = True ))"
   ]
  },
  {
   "cell_type": "markdown",
   "id": "912ef4f3-2903-4001-a855-e54e1049e889",
   "metadata": {},
   "source": [
    "# The Python Programmming Language: Types and Sequences\n"
   ]
  },
  {
   "cell_type": "code",
   "execution_count": 13,
   "id": "725717a0-618e-450e-9fe9-9fa2ca1d25e6",
   "metadata": {},
   "outputs": [
    {
     "data": {
      "text/plain": [
       "str"
      ]
     },
     "execution_count": 13,
     "metadata": {},
     "output_type": "execute_result"
    }
   ],
   "source": [
    "type('This is a string')"
   ]
  },
  {
   "cell_type": "code",
   "execution_count": 14,
   "id": "ccbf3b70-81a1-40ef-9538-86470c9af225",
   "metadata": {},
   "outputs": [
    {
     "data": {
      "text/plain": [
       "NoneType"
      ]
     },
     "execution_count": 14,
     "metadata": {},
     "output_type": "execute_result"
    }
   ],
   "source": [
    "type(None) "
   ]
  },
  {
   "cell_type": "code",
   "execution_count": 15,
   "id": "7cfb76a0-29a2-4c4c-84f5-807c12e8a969",
   "metadata": {},
   "outputs": [
    {
     "data": {
      "text/plain": [
       "int"
      ]
     },
     "execution_count": 15,
     "metadata": {},
     "output_type": "execute_result"
    }
   ],
   "source": [
    "type(1) "
   ]
  },
  {
   "cell_type": "code",
   "execution_count": 16,
   "id": "3cc24884-5a0d-4d59-a123-c99fa2e37811",
   "metadata": {},
   "outputs": [
    {
     "data": {
      "text/plain": [
       "float"
      ]
     },
     "execution_count": 16,
     "metadata": {},
     "output_type": "execute_result"
    }
   ],
   "source": [
    "type(1.0) "
   ]
  },
  {
   "cell_type": "code",
   "execution_count": 17,
   "id": "db1010de-db22-4cec-8f86-26a53f19a1a7",
   "metadata": {},
   "outputs": [
    {
     "data": {
      "text/plain": [
       "function"
      ]
     },
     "execution_count": 17,
     "metadata": {},
     "output_type": "execute_result"
    }
   ],
   "source": [
    "type(add_numbers) "
   ]
  },
  {
   "cell_type": "code",
   "execution_count": 18,
   "id": "4129048b-820d-43e7-83af-8ccbe099c42e",
   "metadata": {},
   "outputs": [
    {
     "data": {
      "text/plain": [
       "function"
      ]
     },
     "execution_count": 18,
     "metadata": {},
     "output_type": "execute_result"
    }
   ],
   "source": [
    "type(add_numbers) "
   ]
  },
  {
   "cell_type": "code",
   "execution_count": 22,
   "id": "3d3130ca-3d1b-42cb-8d99-4a275e19d993",
   "metadata": {},
   "outputs": [
    {
     "data": {
      "text/plain": [
       "tuple"
      ]
     },
     "execution_count": 22,
     "metadata": {},
     "output_type": "execute_result"
    }
   ],
   "source": [
    "x=(1, 'a', 2, 'b') \n",
    "type(x) "
   ]
  },
  {
   "cell_type": "code",
   "execution_count": 25,
   "id": "9fac4112-f93f-4e83-b0bf-b10ef866746a",
   "metadata": {},
   "outputs": [
    {
     "data": {
      "text/plain": [
       "list"
      ]
     },
     "execution_count": 25,
     "metadata": {},
     "output_type": "execute_result"
    }
   ],
   "source": [
    "x=[1, 'a', 2, 'b']\n",
    "type(x) "
   ]
  },
  {
   "cell_type": "code",
   "execution_count": 26,
   "id": "02f78c34-1aaf-4f91-9b99-6918391e6719",
   "metadata": {},
   "outputs": [
    {
     "name": "stdout",
     "output_type": "stream",
     "text": [
      "1\n",
      "a\n",
      "2\n",
      "b\n"
     ]
    }
   ],
   "source": [
    "for item in x: \n",
    "    print (item)"
   ]
  },
  {
   "cell_type": "code",
   "execution_count": 27,
   "id": "4e8c6468-14c0-4f0e-b5e3-8ec17d64ce83",
   "metadata": {},
   "outputs": [
    {
     "name": "stdout",
     "output_type": "stream",
     "text": [
      "1\n",
      "a\n",
      "2\n",
      "b\n"
     ]
    }
   ],
   "source": [
    "i = 0\n",
    "while( i != len(x) ): \n",
    "    print(x[i]) \n",
    "    i = i+1"
   ]
  },
  {
   "cell_type": "code",
   "execution_count": 28,
   "id": "880299c9-0ea1-4d53-8c9a-a73e3f9f4c9b",
   "metadata": {},
   "outputs": [
    {
     "data": {
      "text/plain": [
       "[1, 1, 1]"
      ]
     },
     "execution_count": 28,
     "metadata": {},
     "output_type": "execute_result"
    }
   ],
   "source": [
    "[1] * 3"
   ]
  },
  {
   "cell_type": "code",
   "execution_count": 29,
   "id": "eb725db5-e3a2-41ed-92b5-4fe1ecea1388",
   "metadata": {},
   "outputs": [
    {
     "data": {
      "text/plain": [
       "True"
      ]
     },
     "execution_count": 29,
     "metadata": {},
     "output_type": "execute_result"
    }
   ],
   "source": [
    "1 in [1, 2, 4]"
   ]
  },
  {
   "cell_type": "code",
   "execution_count": 38,
   "id": "c665c2a1-351e-4937-a75d-c610c7413534",
   "metadata": {},
   "outputs": [
    {
     "name": "stdout",
     "output_type": "stream",
     "text": [
      "T\n",
      "This\n",
      "This i\n",
      "s\n",
      "tri\n",
      "This i\n",
      "s a string\n"
     ]
    }
   ],
   "source": [
    "x = 'This is a string' \n",
    "\n",
    "print(x[0])\n",
    "print(x[0:4])\n",
    "print(x[0:6])\n",
    "print(x[-6])\n",
    "print(x[-5:-2])\n",
    "print(x[:6])\n",
    "print(x[6:])"
   ]
  },
  {
   "cell_type": "code",
   "execution_count": 40,
   "id": "15f17b7e-b34e-4f86-bf5c-888213d56381",
   "metadata": {},
   "outputs": [
    {
     "name": "stdout",
     "output_type": "stream",
     "text": [
      "GlyphineEvermore\n"
     ]
    }
   ],
   "source": [
    "firstname= 'Glyphine Brooks Arthur Evermore' .split(' ')[0]\n",
    "lastname= 'Glyphine Brooks Arthur Evermore' .split(' ')[-1]\n",
    "\n",
    "print(firstname + lastname)"
   ]
  },
  {
   "cell_type": "code",
   "execution_count": 41,
   "id": "b8412647-4ced-4b02-8204-52d76d401bb3",
   "metadata": {},
   "outputs": [
    {
     "data": {
      "text/plain": [
       "'Chris2'"
      ]
     },
     "execution_count": 41,
     "metadata": {},
     "output_type": "execute_result"
    }
   ],
   "source": [
    "'Chris' + str(2)"
   ]
  },
  {
   "cell_type": "code",
   "execution_count": 42,
   "id": "c1428790-567b-447b-ba74-7e4f68b0e7bc",
   "metadata": {},
   "outputs": [
    {
     "data": {
      "text/plain": [
       "'potato@gmail.com'"
      ]
     },
     "execution_count": 42,
     "metadata": {},
     "output_type": "execute_result"
    }
   ],
   "source": [
    "x= {'Mashed Potato' : 'potato@gmail.com', 'Tiramisu Cake' : 'cake@gmail.com'} \n",
    "\n",
    "x['Mashed Potato']"
   ]
  },
  {
   "cell_type": "code",
   "execution_count": 43,
   "id": "b4a972e0-0d6d-4038-a26f-dbd1d397b7ab",
   "metadata": {},
   "outputs": [
    {
     "name": "stdout",
     "output_type": "stream",
     "text": [
      "potato@gmail.com\n",
      "cake@gmail.com\n"
     ]
    }
   ],
   "source": [
    "for name in x:\n",
    "    print(x[name])"
   ]
  },
  {
   "cell_type": "code",
   "execution_count": 44,
   "id": "8b549022-bc0a-4538-b9b3-2fbd401c086b",
   "metadata": {},
   "outputs": [
    {
     "name": "stdout",
     "output_type": "stream",
     "text": [
      "Mashed Potato\n",
      "potato@gmail.com\n",
      "Tiramisu Cake\n",
      "cake@gmail.com\n"
     ]
    }
   ],
   "source": [
    "for name,email in x.items(): \n",
    "    print(name)\n",
    "    print(email) "
   ]
  },
  {
   "cell_type": "code",
   "execution_count": 45,
   "id": "0f189599-b3d2-4082-ba9a-3db3793b096a",
   "metadata": {},
   "outputs": [],
   "source": [
    "x = {'Christopher', 'Brooks', 'book@gmail.com' } \n",
    "\n",
    "fname, lname, mail = x"
   ]
  },
  {
   "cell_type": "code",
   "execution_count": 46,
   "id": "7ee97e70-47df-4059-8f80-2e53303724e0",
   "metadata": {},
   "outputs": [
    {
     "data": {
      "text/plain": [
       "'Christopher'"
      ]
     },
     "execution_count": 46,
     "metadata": {},
     "output_type": "execute_result"
    }
   ],
   "source": [
    "fname"
   ]
  },
  {
   "cell_type": "code",
   "execution_count": 47,
   "id": "10318091-e284-49d4-bb06-92e81e8612be",
   "metadata": {},
   "outputs": [
    {
     "data": {
      "text/plain": [
       "'Brooks'"
      ]
     },
     "execution_count": 47,
     "metadata": {},
     "output_type": "execute_result"
    }
   ],
   "source": [
    "lname"
   ]
  },
  {
   "cell_type": "markdown",
   "id": "78abcd93-9669-4041-ae75-d7a0633e1f09",
   "metadata": {},
   "source": [
    "# Python Programming Language: More on Strings"
   ]
  },
  {
   "cell_type": "code",
   "execution_count": 48,
   "id": "798bfb02-430f-4a5d-a379-b91b8a0970c6",
   "metadata": {},
   "outputs": [
    {
     "name": "stdout",
     "output_type": "stream",
     "text": [
      "Chris2\n"
     ]
    }
   ],
   "source": [
    "print ('Chris' + str(2))"
   ]
  },
  {
   "cell_type": "code",
   "execution_count": 50,
   "id": "b849580a-9ca1-4bab-82ab-f6ba371e8746",
   "metadata": {},
   "outputs": [
    {
     "name": "stdout",
     "output_type": "stream",
     "text": [
      "Chris brought 4 item/s at a price of 3.24 each for a total of 12.96\n"
     ]
    }
   ],
   "source": [
    "sales_record= {'price' : 3.24,\n",
    "               'num_items' : 4, \n",
    "               'person' : 'Chris' } \n",
    "sales_statement= '{} brought {} item/s at a price of {} each for a total of {}' \n",
    "\n",
    "print(sales_statement.format(sales_record['person'], \n",
    "                             sales_record['num_items'],\n",
    "                             sales_record['price'],\n",
    "                             sales_record['num_items'] * sales_record['price'] ))\n",
    "                             "
   ]
  },
  {
   "cell_type": "markdown",
   "id": "a32654c8-f1d6-44e6-8259-bc198612797d",
   "metadata": {},
   "source": [
    "# Data Files and Summary Statistics"
   ]
  },
  {
   "cell_type": "code",
   "execution_count": null,
   "id": "1b65d44b-e9d5-44ba-a327-8e7bf4ce852c",
   "metadata": {},
   "outputs": [],
   "source": [
    "import csv\n",
    "\n",
    "%precision 2 \n",
    "\n"
   ]
  }
 ],
 "metadata": {
  "kernelspec": {
   "display_name": "Python 3 (ipykernel)",
   "language": "python",
   "name": "python3"
  },
  "language_info": {
   "codemirror_mode": {
    "name": "ipython",
    "version": 3
   },
   "file_extension": ".py",
   "mimetype": "text/x-python",
   "name": "python",
   "nbconvert_exporter": "python",
   "pygments_lexer": "ipython3",
   "version": "3.12.2"
  }
 },
 "nbformat": 4,
 "nbformat_minor": 5
}
