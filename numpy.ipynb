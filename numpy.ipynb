{
 "cells": [
  {
   "cell_type": "markdown",
   "id": "52246133-6519-4ac3-a710-5da8b92f066f",
   "metadata": {},
   "source": [
    "Numpy is the fundamental package for numeric compting with Python. It provides powerful ways to create, store, and/or manipulate data, which makes it able to seamlessly and speedily integrate with a wide variety of databases and data formats. This is also the foundation that Pandas is built on which is a high performance data-centric package."
   ]
  },
  {
   "cell_type": "code",
   "execution_count": 72,
   "id": "c51581cb-3026-4445-bd3e-9714094563ae",
   "metadata": {},
   "outputs": [],
   "source": [
    "import numpy as np\n",
    "import math "
   ]
  },
  {
   "cell_type": "markdown",
   "id": "0583ccf7-8d17-4ae2-a990-c02b7808d3d5",
   "metadata": {},
   "source": [
    "# Array Creation "
   ]
  },
  {
   "cell_type": "code",
   "execution_count": 73,
   "id": "149c6391-185b-41b7-bcdc-fba6e02fbe5b",
   "metadata": {},
   "outputs": [
    {
     "name": "stdout",
     "output_type": "stream",
     "text": [
      "[1 2 3]\n",
      "1\n"
     ]
    }
   ],
   "source": [
    "a = np.array([1, 2, 3])\n",
    "print(a)\n",
    "#no. of dimensions of a list using ndim\n",
    "print(a.ndim) "
   ]
  },
  {
   "cell_type": "code",
   "execution_count": 74,
   "id": "db37ba63-77ea-4ca0-ad4f-2c0c4649ef70",
   "metadata": {},
   "outputs": [
    {
     "data": {
      "text/plain": [
       "array([[1, 2, 3],\n",
       "       [4, 5, 6]])"
      ]
     },
     "execution_count": 74,
     "metadata": {},
     "output_type": "execute_result"
    }
   ],
   "source": [
    "# multi-dimensional array\n",
    "b= np.array([[1,2,3], [4,5,6]])\n",
    "b"
   ]
  },
  {
   "cell_type": "code",
   "execution_count": 75,
   "id": "a16a0089-408c-4bfe-8c6e-ddaab1324b2e",
   "metadata": {},
   "outputs": [
    {
     "data": {
      "text/plain": [
       "(2, 3)"
      ]
     },
     "execution_count": 75,
     "metadata": {},
     "output_type": "execute_result"
    }
   ],
   "source": [
    "#length of each dimension by calling the shape attribute, which returns a tuple\n",
    "b.shape"
   ]
  },
  {
   "cell_type": "code",
   "execution_count": 76,
   "id": "f27e3722-0d39-4984-99b5-8101ce01dcfb",
   "metadata": {},
   "outputs": [
    {
     "data": {
      "text/plain": [
       "dtype('int32')"
      ]
     },
     "execution_count": 76,
     "metadata": {},
     "output_type": "execute_result"
    }
   ],
   "source": [
    "#type of items in the array\n",
    "a.dtype"
   ]
  },
  {
   "cell_type": "code",
   "execution_count": 77,
   "id": "5a45206e-4598-40d0-a50c-c21cfeab2eb0",
   "metadata": {},
   "outputs": [
    {
     "data": {
      "text/plain": [
       "'float64'"
      ]
     },
     "execution_count": 77,
     "metadata": {},
     "output_type": "execute_result"
    }
   ],
   "source": [
    "#float is acceptect\n",
    "c= np.array([2.2, 5, 1.1])\n",
    "c.dtype.name"
   ]
  },
  {
   "cell_type": "code",
   "execution_count": 78,
   "id": "e193e3ed-afb7-4b71-8f9c-bde6c7db14fe",
   "metadata": {},
   "outputs": [
    {
     "data": {
      "text/plain": [
       "array([2.2, 5. , 1.1])"
      ]
     },
     "execution_count": 78,
     "metadata": {},
     "output_type": "execute_result"
    }
   ],
   "source": [
    "c\n",
    "\n",
    "#automatically converts 5 to floats since there is no loss of precision\n",
    "#numpy gives the best data type format possible to keep your data types homogeneous"
   ]
  },
  {
   "cell_type": "code",
   "execution_count": 79,
   "id": "64fe021c-d6fd-49fa-ac7f-22265e4a818e",
   "metadata": {},
   "outputs": [
    {
     "name": "stdout",
     "output_type": "stream",
     "text": [
      "[[0. 0. 0.]\n",
      " [0. 0. 0.]]\n",
      "[[1. 1. 1.]\n",
      " [1. 1. 1.]]\n"
     ]
    }
   ],
   "source": [
    "#creating two arrays, both the same shape but with diff filler values\n",
    "\n",
    "d= np.zeros ((2,3))\n",
    "print(d) \n",
    "\n",
    "e= np.ones ((2,3)) \n",
    "print(e) "
   ]
  },
  {
   "cell_type": "code",
   "execution_count": 80,
   "id": "fcb44117-2fab-4fd2-9cfc-42da76caab9e",
   "metadata": {},
   "outputs": [
    {
     "data": {
      "text/plain": [
       "array([[0.48439803, 0.89263508, 0.13998362],\n",
       "       [0.14795639, 0.86252539, 0.38608218]])"
      ]
     },
     "execution_count": 80,
     "metadata": {},
     "output_type": "execute_result"
    }
   ],
   "source": [
    "#randomize \n",
    "\n",
    "np.random.rand(2,3) "
   ]
  },
  {
   "cell_type": "code",
   "execution_count": 81,
   "id": "470ef0aa-d2cb-4f09-9e58-86b883d2a0fe",
   "metadata": {},
   "outputs": [
    {
     "data": {
      "text/plain": [
       "array([10, 12, 14, 16, 18, 20, 22, 24, 26, 28, 30, 32, 34, 36, 38, 40, 42,\n",
       "       44, 46, 48])"
      ]
     },
     "execution_count": 81,
     "metadata": {},
     "output_type": "execute_result"
    }
   ],
   "source": [
    "#sequence of nunmbers in an array with the arrange() function. \n",
    "\n",
    "#array of every even number from ten (inclusive) to fifty (exclusive) \n",
    "f= np.arange(10, 50, 2) \n",
    "f"
   ]
  },
  {
   "cell_type": "code",
   "execution_count": 82,
   "id": "5f9d6ea3-dc02-4897-b4c3-8218e62c55ea",
   "metadata": {},
   "outputs": [
    {
     "data": {
      "text/plain": [
       "array([0.        , 0.14285714, 0.28571429, 0.42857143, 0.57142857,\n",
       "       0.71428571, 0.85714286, 1.        , 1.14285714, 1.28571429,\n",
       "       1.42857143, 1.57142857, 1.71428571, 1.85714286, 2.        ])"
      ]
     },
     "execution_count": 82,
     "metadata": {},
     "output_type": "execute_result"
    }
   ],
   "source": [
    "#generate a sequence of floats with a linspace() function. \n",
    "\n",
    "np.linspace(0, 2, 15) # 15 no. from 0 (inclusive) to 2 (inclusive) "
   ]
  },
  {
   "cell_type": "markdown",
   "id": "806d391a-0214-412d-9b9c-02fcf618ec7b",
   "metadata": {},
   "source": [
    "# Array Operations"
   ]
  },
  {
   "cell_type": "code",
   "execution_count": 83,
   "id": "6fa7e489-4048-4e86-988e-02d7eabfb8a5",
   "metadata": {},
   "outputs": [
    {
     "name": "stdout",
     "output_type": "stream",
     "text": [
      "[ 6 17 28 39]\n",
      "[40 60 60 40]\n"
     ]
    }
   ],
   "source": [
    "#arithmetric operators on array apply elementwise. \n",
    "\n",
    "a = np.array([10,20,30,40]) \n",
    "b = np.array([4,3,2,1])\n",
    "\n",
    "c = a-b \n",
    "d = a*b \n",
    "\n",
    "print(c)\n",
    "print(d)"
   ]
  },
  {
   "cell_type": "code",
   "execution_count": 84,
   "id": "81160576-440a-4915-98c3-4af6528721f3",
   "metadata": {},
   "outputs": [
    {
     "data": {
      "text/plain": [
       "array([-17.22222222, -22.77777778, -20.        , -25.55555556,\n",
       "       -17.22222222])"
      ]
     },
     "execution_count": 84,
     "metadata": {},
     "output_type": "execute_result"
    }
   ],
   "source": [
    "#array of typical winter farenheit values\n",
    "\n",
    "farenheit = np.array([0,-10, -5, -15, 0])\n",
    "\n",
    "celcius = (farenheit - 31) * (5/9)\n",
    "celcius"
   ]
  },
  {
   "cell_type": "code",
   "execution_count": 85,
   "id": "f71862b4-1fbf-4e35-98c4-2b6b2005e2e5",
   "metadata": {},
   "outputs": [
    {
     "data": {
      "text/plain": [
       "array([ True, False, False, False,  True])"
      ]
     },
     "execution_count": 85,
     "metadata": {},
     "output_type": "execute_result"
    }
   ],
   "source": [
    "celcius > -20 \n"
   ]
  },
  {
   "cell_type": "code",
   "execution_count": 86,
   "id": "92c85360-c01a-48e8-8697-e7a2b6b93436",
   "metadata": {},
   "outputs": [
    {
     "data": {
      "text/plain": [
       "array([False, False,  True, False, False])"
      ]
     },
     "execution_count": 86,
     "metadata": {},
     "output_type": "execute_result"
    }
   ],
   "source": [
    "celcius %2==0"
   ]
  },
  {
   "cell_type": "code",
   "execution_count": 87,
   "id": "95de5734-4880-4e82-965c-00eaa80fcc41",
   "metadata": {},
   "outputs": [
    {
     "name": "stdout",
     "output_type": "stream",
     "text": [
      "[[2 3]\n",
      " [0 5]]\n",
      "[[11  8]\n",
      " [ 9  5]]\n"
     ]
    }
   ],
   "source": [
    "#matrix manipulation \n",
    "g = np.array([[1,1], [0,1]])\n",
    "h = np.array([[2,3], [9,5]])\n",
    "\n",
    "print(g*h) \n",
    "\n",
    "# the '@' sign or dot function is utilized when we want to do matrix product\n",
    "print(g@h) "
   ]
  },
  {
   "cell_type": "code",
   "execution_count": 88,
   "id": "69d952b6-2b22-4bd0-a341-a5f2175d4d8c",
   "metadata": {},
   "outputs": [
    {
     "data": {
      "text/plain": [
       "(2, 2)"
      ]
     },
     "execution_count": 88,
     "metadata": {},
     "output_type": "execute_result"
    }
   ],
   "source": [
    "#shape of the matrix\n",
    "g.shape"
   ]
  },
  {
   "cell_type": "code",
   "execution_count": 89,
   "id": "a04f55d5-5e7b-4cbd-ad17-b4b93b5d37bb",
   "metadata": {},
   "outputs": [
    {
     "name": "stdout",
     "output_type": "stream",
     "text": [
      "int32\n",
      "float64\n"
     ]
    }
   ],
   "source": [
    "# Upcasting. When manipulating arrays of different types, the type of the resulting array \n",
    "# will correspond to the more general of the two types.\n",
    "array1= np.array([[1,2,3], [4,5,6]])\n",
    "print(array1.dtype) \n",
    "\n",
    "array2 = np.array([[2.2, 5, 1.1], [2.2, 5, 1.1]])\n",
    "print(array2.dtype)\n",
    "\n"
   ]
  },
  {
   "cell_type": "code",
   "execution_count": 90,
   "id": "a839dea1-4bad-46e5-8305-b32af1e08021",
   "metadata": {},
   "outputs": [
    {
     "name": "stdout",
     "output_type": "stream",
     "text": [
      "[[ 3.2  7.   4.1]\n",
      " [ 6.2 10.   7.1]]\n",
      "float64\n"
     ]
    }
   ],
   "source": [
    "array3 = array1 + array2\n",
    "print(array3) \n",
    "print(array3.dtype) \n"
   ]
  },
  {
   "cell_type": "code",
   "execution_count": 91,
   "id": "6186c99f-90f6-4cbb-a97f-f4a4220d755e",
   "metadata": {},
   "outputs": [
    {
     "name": "stdout",
     "output_type": "stream",
     "text": [
      "37.6\n",
      "10.0\n",
      "3.2\n",
      "6.266666666666667\n"
     ]
    }
   ],
   "source": [
    "print(array3.sum())\n",
    "print(array3.max())\n",
    "print(array3.min())\n",
    "print(array3.mean())"
   ]
  },
  {
   "cell_type": "code",
   "execution_count": 92,
   "id": "4102a4c2-b1b5-4d87-9d1d-666e324a1ce9",
   "metadata": {},
   "outputs": [
    {
     "name": "stdout",
     "output_type": "stream",
     "text": [
      "[[ 1  2  3  4  5]\n",
      " [ 6  7  8  9 10]\n",
      " [11 12 13 14 15]]\n"
     ]
    }
   ],
   "source": [
    "b= np.arange(1,16,1). reshape(3,5) \n",
    "print(b) "
   ]
  },
  {
   "cell_type": "code",
   "execution_count": 1,
   "id": "05601197-893a-4c4c-b5c2-a9dcffa02550",
   "metadata": {},
   "outputs": [
    {
     "name": "stdout",
     "output_type": "stream",
     "text": [
      "Requirement already satisfied: pillow in c:\\users\\gwynn\\appdata\\local\\programs\\python\\python310\\lib\\site-packages (10.4.0)\n"
     ]
    }
   ],
   "source": [
    "!pip install pillow"
   ]
  },
  {
   "cell_type": "code",
   "execution_count": 2,
   "id": "1fd2bd6d-2ed4-4ec7-bcb3-c411c41530cf",
   "metadata": {
    "editable": true,
    "slideshow": {
     "slide_type": ""
    },
    "tags": []
   },
   "outputs": [
    {
     "ename": "ModuleNotFoundError",
     "evalue": "No module named 'PIL'",
     "output_type": "error",
     "traceback": [
      "\u001b[1;31m---------------------------------------------------------------------------\u001b[0m",
      "\u001b[1;31mModuleNotFoundError\u001b[0m                       Traceback (most recent call last)",
      "Cell \u001b[1;32mIn[2], line 1\u001b[0m\n\u001b[1;32m----> 1\u001b[0m \u001b[38;5;28;01mfrom\u001b[39;00m \u001b[38;5;21;01mPIL\u001b[39;00m \u001b[38;5;28;01mimport\u001b[39;00m Image\n\u001b[0;32m      2\u001b[0m \u001b[38;5;28;01mfrom\u001b[39;00m \u001b[38;5;21;01mIPython\u001b[39;00m\u001b[38;5;21;01m.\u001b[39;00m\u001b[38;5;21;01mdisplay\u001b[39;00m \u001b[38;5;28;01mimport\u001b[39;00m display\n\u001b[0;32m      4\u001b[0m im \u001b[38;5;241m=\u001b[39m Image(filename\u001b[38;5;241m=\u001b[39m \u001b[38;5;124m\"\u001b[39m\u001b[38;5;124mC:/Users/gwynn/Downloads/439268603_411489471796609_5433779934046826513_n.jpg\u001b[39m\u001b[38;5;124m\"\u001b[39m)\n",
      "\u001b[1;31mModuleNotFoundError\u001b[0m: No module named 'PIL'"
     ]
    }
   ],
   "source": [
    "from PIL import Image\n",
    "from IPython.display import display\n",
    "\n",
    "im = Image.open('files.png') \n",
    "display(im) "
   ]
  },
  {
   "cell_type": "code",
   "execution_count": null,
   "id": "bc1a5ac4-1d7a-401d-9b1d-9faf18024946",
   "metadata": {},
   "outputs": [],
   "source": [
    "array = np.array(im) \n",
    "print(array.shape) \n",
    "array"
   ]
  },
  {
   "cell_type": "code",
   "execution_count": null,
   "id": "e38ed9fd-256e-4a69-bacb-9514640bf3b2",
   "metadata": {},
   "outputs": [],
   "source": [
    "# for black and white images is stored as 0 and white is stored as 255. So if we just wanted \n",
    "# to invert the image we use the numpy array to do so\n",
    "\n",
    "#sample\n",
    "mask= np.full(array.shape,255) \n",
    "mask "
   ]
  },
  {
   "cell_type": "code",
   "execution_count": null,
   "id": "91a36f8f-7960-423f-9ad9-b1e2195426b1",
   "metadata": {},
   "outputs": [],
   "source": [
    "modified_array = array- mask\n",
    "modified_array = modified_array*-1 \n",
    "modified_array = modified_array.astype(np.uint8) \n",
    "\n",
    "modified_array"
   ]
  },
  {
   "cell_type": "code",
   "execution_count": null,
   "id": "2f7aacb3-aa66-4bd9-b52e-e47ec8c89ba1",
   "metadata": {},
   "outputs": [],
   "source": [
    "display(Image.fromarray(modified_array))"
   ]
  },
  {
   "cell_type": "code",
   "execution_count": null,
   "id": "3fb8305b-ced8-4989-9e44-ca5d7eabbfe6",
   "metadata": {},
   "outputs": [],
   "source": [
    "reshaped= np.rreshape(modified_array, (100, 400))\n",
    "print(reshaped.shape) \n",
    "display(Image.fromarray(reshaped))\n"
   ]
  },
  {
   "cell_type": "markdown",
   "id": "f39aef36-578e-421e-8539-3dcb39f37bb7",
   "metadata": {},
   "source": [
    "# Indexing, Slicing and Iterating "
   ]
  },
  {
   "cell_type": "code",
   "execution_count": 1,
   "id": "04ba25dc-2e1a-478f-94bf-b98fcae9306d",
   "metadata": {},
   "outputs": [],
   "source": [
    "# Indexing, slicing and iterating are extremely important for data mannipulation and analysis \n",
    "# because these techniques allow us select data based on conditions, and copy or update data."
   ]
  },
  {
   "cell_type": "markdown",
   "id": "fcc2bcc1-1368-4188-bb77-24e9c83419ea",
   "metadata": {},
   "source": [
    "## Indexing"
   ]
  },
  {
   "cell_type": "code",
   "execution_count": 3,
   "id": "fc17dc16-081f-49a2-a518-9f686949699d",
   "metadata": {},
   "outputs": [
    {
     "data": {
      "text/plain": [
       "5"
      ]
     },
     "execution_count": 3,
     "metadata": {},
     "output_type": "execute_result"
    }
   ],
   "source": [
    "# On-demensional array, works in similar ways as a list- to get an element in a one-dimensional\n",
    "# array, we simply use the offset index. \n",
    "import numpy as np\n",
    "a = np.array([1,3,5,7]) \n",
    "a[2]"
   ]
  },
  {
   "cell_type": "code",
   "execution_count": 6,
   "id": "eff2f95e-394f-4f71-82bb-38768b71ced0",
   "metadata": {},
   "outputs": [
    {
     "data": {
      "text/plain": [
       "array([[1, 2],\n",
       "       [3, 4],\n",
       "       [5, 6]])"
      ]
     },
     "execution_count": 6,
     "metadata": {},
     "output_type": "execute_result"
    }
   ],
   "source": [
    "# Multidimensional array, we need to use integer array indexing\n",
    "a = np.array([[1,2],[3,4],[5,6]])\n",
    "a"
   ]
  },
  {
   "cell_type": "code",
   "execution_count": 7,
   "id": "2c9cc4cc-55e5-4c1d-82fa-197c4ee3a6e0",
   "metadata": {},
   "outputs": [
    {
     "data": {
      "text/plain": [
       "4"
      ]
     },
     "execution_count": 7,
     "metadata": {},
     "output_type": "execute_result"
    }
   ],
   "source": [
    "# if we want to select one certain element, we can do so by entering the index, which is comprised\n",
    "# of two integers the first being the being the row, and the second the column\n",
    "\n",
    "a[1,1]"
   ]
  },
  {
   "cell_type": "code",
   "execution_count": 8,
   "id": "70c58d44-1c75-4275-b983-d5441edeec36",
   "metadata": {},
   "outputs": [
    {
     "name": "stdout",
     "output_type": "stream",
     "text": [
      "[1 4 6]\n"
     ]
    }
   ],
   "source": [
    "print(a[[0, 1, 2], [0, 1, 1]])"
   ]
  },
  {
   "cell_type": "markdown",
   "id": "161a56cd-3cb9-4ebe-84cd-e8182ef14905",
   "metadata": {},
   "source": [
    "## Boolean Indexing "
   ]
  },
  {
   "cell_type": "code",
   "execution_count": 9,
   "id": "0626c7eb-708d-4d01-8d13-0eb2305569fa",
   "metadata": {},
   "outputs": [
    {
     "name": "stdout",
     "output_type": "stream",
     "text": [
      "[[False False]\n",
      " [False False]\n",
      " [False  True]]\n"
     ]
    }
   ],
   "source": [
    "# Boolean indexing allows us to select arbitrary elements based on conditions.\n",
    "print (a >5)"
   ]
  },
  {
   "cell_type": "code",
   "execution_count": 10,
   "id": "2168db03-327b-4e6d-92bf-12f3b1eb0c82",
   "metadata": {},
   "outputs": [
    {
     "name": "stdout",
     "output_type": "stream",
     "text": [
      "[6]\n"
     ]
    }
   ],
   "source": [
    "# mask over the original array to return a one-dimensional array relation to the true values. \n",
    "\n",
    "print (a[a>5])"
   ]
  },
  {
   "cell_type": "code",
   "execution_count": 11,
   "id": "0953c635-4c58-4255-9098-800b77384a4a",
   "metadata": {},
   "outputs": [],
   "source": [
    "# This functionality is essential in the pandas toolkit which is the bulk of this course"
   ]
  },
  {
   "cell_type": "markdown",
   "id": "26002508-c27b-431c-b071-defe9dc95d2c",
   "metadata": {},
   "source": [
    "## Slicing"
   ]
  },
  {
   "cell_type": "code",
   "execution_count": 13,
   "id": "caaf83cb-e271-4c74-988a-e98070e8c20b",
   "metadata": {},
   "outputs": [
    {
     "name": "stdout",
     "output_type": "stream",
     "text": [
      "[0 1 2]\n"
     ]
    }
   ],
   "source": [
    "# Slicing is a way to create a sub-array based on the original array.\n",
    "# For one-dimensional arrays, slicing works in similar ways to a list.\n",
    "# To slice, we use the : sign. For instance, if we put : 3 in the indexing brackets, \n",
    "# we get elements from index 0 to index 3 (excluding index 3) \n",
    "\n",
    "a = np.array([0,1,2,3,4,5])\n",
    "print(a[:3])"
   ]
  },
  {
   "cell_type": "code",
   "execution_count": 14,
   "id": "5752c81e-5f45-4835-9d25-40bee50a81d2",
   "metadata": {},
   "outputs": [
    {
     "name": "stdout",
     "output_type": "stream",
     "text": [
      "[2 3]\n"
     ]
    }
   ],
   "source": [
    "print(a[2:4]) "
   ]
  },
  {
   "cell_type": "code",
   "execution_count": 15,
   "id": "70f474d9-da10-4a2e-b0a5-a912ccc5314c",
   "metadata": {},
   "outputs": [
    {
     "data": {
      "text/plain": [
       "array([[ 1,  2,  3,  4],\n",
       "       [ 5,  6,  7,  8],\n",
       "       [ 9, 10, 11, 12]])"
      ]
     },
     "execution_count": 15,
     "metadata": {},
     "output_type": "execute_result"
    }
   ],
   "source": [
    "a = np.array([[1,2,3,4], [5,6,7,8], [9,10,11,12]])\n",
    "a"
   ]
  },
  {
   "cell_type": "code",
   "execution_count": 17,
   "id": "f8ea1edf-867d-4d52-b19e-39c38cf7270f",
   "metadata": {},
   "outputs": [
    {
     "data": {
      "text/plain": [
       "array([[1, 2, 3, 4],\n",
       "       [5, 6, 7, 8]])"
      ]
     },
     "execution_count": 17,
     "metadata": {},
     "output_type": "execute_result"
    }
   ],
   "source": [
    "a[:2] "
   ]
  },
  {
   "cell_type": "code",
   "execution_count": 19,
   "id": "f4926825-f472-4ef5-ace3-b77b7774d14b",
   "metadata": {},
   "outputs": [
    {
     "data": {
      "text/plain": [
       "array([[2, 3],\n",
       "       [6, 7]])"
      ]
     },
     "execution_count": 19,
     "metadata": {},
     "output_type": "execute_result"
    }
   ],
   "source": [
    "a[:2, 1:3] "
   ]
  },
  {
   "cell_type": "code",
   "execution_count": 21,
   "id": "e6c724c0-749d-45d9-86c4-abc434e33774",
   "metadata": {},
   "outputs": [
    {
     "name": "stdout",
     "output_type": "stream",
     "text": [
      "Sub array index [0,0] value before change:  50\n",
      "sub array index [0,0] value after change:  50\n",
      "Original array index [0,1] value after change:  50\n"
     ]
    }
   ],
   "source": [
    "sub_array = a[:2, 1:3] \n",
    "print(\"Sub array index [0,0] value before change: \", sub_array[0,0]) \n",
    "sub_array[0,0] = 50 \n",
    "print (\"sub array index [0,0] value after change: \", sub_array[0,0]) \n",
    "print(\"Original array index [0,1] value after change: \", a[0,1]) \n"
   ]
  },
  {
   "cell_type": "markdown",
   "id": "f943c625-d990-43af-b004-eadd92a29946",
   "metadata": {},
   "source": [
    "# Trying Numpy with Datasets"
   ]
  },
  {
   "cell_type": "code",
   "execution_count": null,
   "id": "77a31b74-3dd4-4441-9a1e-591a8199b8c1",
   "metadata": {},
   "outputs": [],
   "source": [
    "# to load a dataset in Numpy, we can use the genfromtxt() function. "
   ]
  }
 ],
 "metadata": {
  "kernelspec": {
   "display_name": "Python 3 (ipykernel)",
   "language": "python",
   "name": "python3"
  },
  "language_info": {
   "codemirror_mode": {
    "name": "ipython",
    "version": 3
   },
   "file_extension": ".py",
   "mimetype": "text/x-python",
   "name": "python",
   "nbconvert_exporter": "python",
   "pygments_lexer": "ipython3",
   "version": "3.12.2"
  }
 },
 "nbformat": 4,
 "nbformat_minor": 5
}
